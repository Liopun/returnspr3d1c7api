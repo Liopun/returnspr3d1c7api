{
 "cells": [
  {
   "cell_type": "code",
   "execution_count": 1,
   "id": "1f639d20",
   "metadata": {},
   "outputs": [],
   "source": [
    "import pandas as pd\n",
    "import numpy as np\n",
    "import seaborn as sbn\n",
    "import joblib as jl\n",
    "from sklearn.linear_model import LogisticRegression\n",
    "from sklearn.model_selection import train_test_split"
   ]
  },
  {
   "cell_type": "code",
   "execution_count": 2,
   "id": "923b615f",
   "metadata": {},
   "outputs": [
    {
     "name": "stdout",
     "output_type": "stream",
     "text": [
      "      Time  Returns        dp        dy        ep        de      svar  \\\n",
      "0  1945-01        1 -3.041609 -3.027403 -2.662340 -0.379269  0.000924   \n",
      "1  1945-02        0 -3.096132 -3.036338 -2.711553 -0.384579  0.000655   \n",
      "2  1945-03        1 -3.043790 -3.091042 -2.653829 -0.389961  0.001887   \n",
      "3  1945-04        1 -3.128109 -3.043790 -2.724389 -0.403720  0.001398   \n",
      "4  1945-05        0 -3.139500 -3.128109 -2.722106 -0.417394  0.000921   \n",
      "\n",
      "         bm      ntis     tbl     lty     ltr     tms     dfy     dfr  \\\n",
      "0  0.735342  0.016454  0.0038  0.0240  0.0127  0.0202  0.0077 -0.0051   \n",
      "1  0.704489  0.014836  0.0038  0.0236  0.0077  0.0198  0.0076 -0.0031   \n",
      "2  0.767883  0.015963  0.0038  0.0236  0.0021  0.0198  0.0076 -0.0003   \n",
      "3  0.715063  0.015086  0.0038  0.0228  0.0160  0.0190  0.0075 -0.0142   \n",
      "4  0.702911  0.019773  0.0038  0.0226  0.0056  0.0188  0.0070 -0.0067   \n",
      "\n",
      "       infl  \n",
      "0  0.000000  \n",
      "1  0.000000  \n",
      "2  0.000000  \n",
      "3  0.000000  \n",
      "4  0.005618  \n"
     ]
    }
   ],
   "source": [
    "df = pd.read_excel('SPX_train_0.xlsx', sheet_name='Sheet1')\n",
    "print(df.head())"
   ]
  },
  {
   "cell_type": "code",
   "execution_count": 3,
   "id": "90d52460",
   "metadata": {},
   "outputs": [
    {
     "data": {
      "text/html": [
       "<div>\n",
       "<style scoped>\n",
       "    .dataframe tbody tr th:only-of-type {\n",
       "        vertical-align: middle;\n",
       "    }\n",
       "\n",
       "    .dataframe tbody tr th {\n",
       "        vertical-align: top;\n",
       "    }\n",
       "\n",
       "    .dataframe thead th {\n",
       "        text-align: right;\n",
       "    }\n",
       "</style>\n",
       "<table border=\"1\" class=\"dataframe\">\n",
       "  <thead>\n",
       "    <tr style=\"text-align: right;\">\n",
       "      <th></th>\n",
       "      <th>Returns</th>\n",
       "      <th>dp</th>\n",
       "      <th>dy</th>\n",
       "      <th>ep</th>\n",
       "      <th>de</th>\n",
       "      <th>svar</th>\n",
       "      <th>bm</th>\n",
       "      <th>ntis</th>\n",
       "      <th>tbl</th>\n",
       "      <th>lty</th>\n",
       "      <th>ltr</th>\n",
       "      <th>tms</th>\n",
       "      <th>dfy</th>\n",
       "      <th>dfr</th>\n",
       "      <th>infl</th>\n",
       "    </tr>\n",
       "  </thead>\n",
       "  <tbody>\n",
       "    <tr>\n",
       "      <th>count</th>\n",
       "      <td>899.000000</td>\n",
       "      <td>899.000000</td>\n",
       "      <td>899.000000</td>\n",
       "      <td>899.000000</td>\n",
       "      <td>899.000000</td>\n",
       "      <td>899.000000</td>\n",
       "      <td>899.000000</td>\n",
       "      <td>899.000000</td>\n",
       "      <td>899.000000</td>\n",
       "      <td>899.000000</td>\n",
       "      <td>899.000000</td>\n",
       "      <td>899.000000</td>\n",
       "      <td>899.000000</td>\n",
       "      <td>899.000000</td>\n",
       "      <td>899.000000</td>\n",
       "    </tr>\n",
       "    <tr>\n",
       "      <th>mean</th>\n",
       "      <td>0.573971</td>\n",
       "      <td>-3.491625</td>\n",
       "      <td>-3.485545</td>\n",
       "      <td>-2.768308</td>\n",
       "      <td>-0.723317</td>\n",
       "      <td>0.001928</td>\n",
       "      <td>0.529021</td>\n",
       "      <td>0.013211</td>\n",
       "      <td>0.039445</td>\n",
       "      <td>0.056055</td>\n",
       "      <td>0.005109</td>\n",
       "      <td>0.016610</td>\n",
       "      <td>0.009352</td>\n",
       "      <td>0.000212</td>\n",
       "      <td>0.002985</td>\n",
       "    </tr>\n",
       "    <tr>\n",
       "      <th>std</th>\n",
       "      <td>0.494773</td>\n",
       "      <td>0.434101</td>\n",
       "      <td>0.434575</td>\n",
       "      <td>0.438036</td>\n",
       "      <td>0.286600</td>\n",
       "      <td>0.003883</td>\n",
       "      <td>0.247800</td>\n",
       "      <td>0.019185</td>\n",
       "      <td>0.030916</td>\n",
       "      <td>0.028467</td>\n",
       "      <td>0.026594</td>\n",
       "      <td>0.013358</td>\n",
       "      <td>0.004258</td>\n",
       "      <td>0.013540</td>\n",
       "      <td>0.004455</td>\n",
       "    </tr>\n",
       "    <tr>\n",
       "      <th>min</th>\n",
       "      <td>0.000000</td>\n",
       "      <td>-4.523640</td>\n",
       "      <td>-4.530894</td>\n",
       "      <td>-4.836482</td>\n",
       "      <td>-1.244209</td>\n",
       "      <td>0.000072</td>\n",
       "      <td>0.120510</td>\n",
       "      <td>-0.057654</td>\n",
       "      <td>0.000100</td>\n",
       "      <td>0.016300</td>\n",
       "      <td>-0.112400</td>\n",
       "      <td>-0.036500</td>\n",
       "      <td>0.003200</td>\n",
       "      <td>-0.097500</td>\n",
       "      <td>-0.019153</td>\n",
       "    </tr>\n",
       "    <tr>\n",
       "      <th>25%</th>\n",
       "      <td>0.000000</td>\n",
       "      <td>-3.881547</td>\n",
       "      <td>-3.875365</td>\n",
       "      <td>-3.003524</td>\n",
       "      <td>-0.891068</td>\n",
       "      <td>0.000623</td>\n",
       "      <td>0.313667</td>\n",
       "      <td>0.004711</td>\n",
       "      <td>0.013350</td>\n",
       "      <td>0.031300</td>\n",
       "      <td>-0.008400</td>\n",
       "      <td>0.007800</td>\n",
       "      <td>0.006600</td>\n",
       "      <td>-0.005400</td>\n",
       "      <td>0.000000</td>\n",
       "    </tr>\n",
       "    <tr>\n",
       "      <th>50%</th>\n",
       "      <td>1.000000</td>\n",
       "      <td>-3.464718</td>\n",
       "      <td>-3.462002</td>\n",
       "      <td>-2.826525</td>\n",
       "      <td>-0.705886</td>\n",
       "      <td>0.001059</td>\n",
       "      <td>0.514835</td>\n",
       "      <td>0.016812</td>\n",
       "      <td>0.035300</td>\n",
       "      <td>0.049300</td>\n",
       "      <td>0.002700</td>\n",
       "      <td>0.015600</td>\n",
       "      <td>0.008100</td>\n",
       "      <td>0.000600</td>\n",
       "      <td>0.002839</td>\n",
       "    </tr>\n",
       "    <tr>\n",
       "      <th>75%</th>\n",
       "      <td>1.000000</td>\n",
       "      <td>-3.167254</td>\n",
       "      <td>-3.162066</td>\n",
       "      <td>-2.481150</td>\n",
       "      <td>-0.581994</td>\n",
       "      <td>0.002001</td>\n",
       "      <td>0.718146</td>\n",
       "      <td>0.026654</td>\n",
       "      <td>0.055950</td>\n",
       "      <td>0.075650</td>\n",
       "      <td>0.019000</td>\n",
       "      <td>0.026700</td>\n",
       "      <td>0.011100</td>\n",
       "      <td>0.005700</td>\n",
       "      <td>0.004932</td>\n",
       "    </tr>\n",
       "    <tr>\n",
       "      <th>max</th>\n",
       "      <td>1.000000</td>\n",
       "      <td>-2.597930</td>\n",
       "      <td>-2.585665</td>\n",
       "      <td>-1.774952</td>\n",
       "      <td>1.379530</td>\n",
       "      <td>0.070945</td>\n",
       "      <td>1.206530</td>\n",
       "      <td>0.051161</td>\n",
       "      <td>0.163000</td>\n",
       "      <td>0.148200</td>\n",
       "      <td>0.152300</td>\n",
       "      <td>0.045500</td>\n",
       "      <td>0.033800</td>\n",
       "      <td>0.073700</td>\n",
       "      <td>0.058824</td>\n",
       "    </tr>\n",
       "  </tbody>\n",
       "</table>\n",
       "</div>"
      ],
      "text/plain": [
       "          Returns          dp          dy          ep          de        svar  \\\n",
       "count  899.000000  899.000000  899.000000  899.000000  899.000000  899.000000   \n",
       "mean     0.573971   -3.491625   -3.485545   -2.768308   -0.723317    0.001928   \n",
       "std      0.494773    0.434101    0.434575    0.438036    0.286600    0.003883   \n",
       "min      0.000000   -4.523640   -4.530894   -4.836482   -1.244209    0.000072   \n",
       "25%      0.000000   -3.881547   -3.875365   -3.003524   -0.891068    0.000623   \n",
       "50%      1.000000   -3.464718   -3.462002   -2.826525   -0.705886    0.001059   \n",
       "75%      1.000000   -3.167254   -3.162066   -2.481150   -0.581994    0.002001   \n",
       "max      1.000000   -2.597930   -2.585665   -1.774952    1.379530    0.070945   \n",
       "\n",
       "               bm        ntis         tbl         lty         ltr         tms  \\\n",
       "count  899.000000  899.000000  899.000000  899.000000  899.000000  899.000000   \n",
       "mean     0.529021    0.013211    0.039445    0.056055    0.005109    0.016610   \n",
       "std      0.247800    0.019185    0.030916    0.028467    0.026594    0.013358   \n",
       "min      0.120510   -0.057654    0.000100    0.016300   -0.112400   -0.036500   \n",
       "25%      0.313667    0.004711    0.013350    0.031300   -0.008400    0.007800   \n",
       "50%      0.514835    0.016812    0.035300    0.049300    0.002700    0.015600   \n",
       "75%      0.718146    0.026654    0.055950    0.075650    0.019000    0.026700   \n",
       "max      1.206530    0.051161    0.163000    0.148200    0.152300    0.045500   \n",
       "\n",
       "              dfy         dfr        infl  \n",
       "count  899.000000  899.000000  899.000000  \n",
       "mean     0.009352    0.000212    0.002985  \n",
       "std      0.004258    0.013540    0.004455  \n",
       "min      0.003200   -0.097500   -0.019153  \n",
       "25%      0.006600   -0.005400    0.000000  \n",
       "50%      0.008100    0.000600    0.002839  \n",
       "75%      0.011100    0.005700    0.004932  \n",
       "max      0.033800    0.073700    0.058824  "
      ]
     },
     "execution_count": 3,
     "metadata": {},
     "output_type": "execute_result"
    }
   ],
   "source": [
    "df.describe()"
   ]
  },
  {
   "cell_type": "code",
   "execution_count": 4,
   "id": "aca7d0cc",
   "metadata": {},
   "outputs": [
    {
     "name": "stdout",
     "output_type": "stream",
     "text": [
      "<class 'pandas.core.frame.DataFrame'>\n",
      "RangeIndex: 899 entries, 0 to 898\n",
      "Data columns (total 16 columns):\n",
      " #   Column   Non-Null Count  Dtype  \n",
      "---  ------   --------------  -----  \n",
      " 0   Time     899 non-null    object \n",
      " 1   Returns  899 non-null    int64  \n",
      " 2   dp       899 non-null    float64\n",
      " 3   dy       899 non-null    float64\n",
      " 4   ep       899 non-null    float64\n",
      " 5   de       899 non-null    float64\n",
      " 6   svar     899 non-null    float64\n",
      " 7   bm       899 non-null    float64\n",
      " 8   ntis     899 non-null    float64\n",
      " 9   tbl      899 non-null    float64\n",
      " 10  lty      899 non-null    float64\n",
      " 11  ltr      899 non-null    float64\n",
      " 12  tms      899 non-null    float64\n",
      " 13  dfy      899 non-null    float64\n",
      " 14  dfr      899 non-null    float64\n",
      " 15  infl     899 non-null    float64\n",
      "dtypes: float64(14), int64(1), object(1)\n",
      "memory usage: 112.5+ KB\n"
     ]
    }
   ],
   "source": [
    "df.info()"
   ]
  },
  {
   "cell_type": "code",
   "execution_count": 5,
   "id": "b0852add",
   "metadata": {},
   "outputs": [
    {
     "data": {
      "text/plain": [
       "1    516\n",
       "0    383\n",
       "Name: Returns, dtype: int64"
      ]
     },
     "execution_count": 5,
     "metadata": {},
     "output_type": "execute_result"
    }
   ],
   "source": [
    "df['Returns'].value_counts()"
   ]
  },
  {
   "cell_type": "code",
   "execution_count": 6,
   "id": "222b5e79",
   "metadata": {},
   "outputs": [
    {
     "data": {
      "text/plain": [
       "Index(['Time', 'Returns', 'dp', 'dy', 'ep', 'de', 'svar', 'bm', 'ntis', 'tbl',\n",
       "       'lty', 'ltr', 'tms', 'dfy', 'dfr', 'infl'],\n",
       "      dtype='object')"
      ]
     },
     "execution_count": 6,
     "metadata": {},
     "output_type": "execute_result"
    }
   ],
   "source": [
    "df.columns"
   ]
  },
  {
   "cell_type": "code",
   "execution_count": 7,
   "id": "ee2624b0",
   "metadata": {},
   "outputs": [],
   "source": [
    "col = ['dp', 'dy', 'ep', 'de', 'svar', 'bm', 'ntis', 'tbl',\n",
    "       'lty', 'ltr', 'tms', 'dfy', 'dfr', 'infl']\n",
    "X = df[col]\n",
    "y = df['Returns']\n",
    "X = X.astype('float')\n",
    "y = y.astype('float')"
   ]
  },
  {
   "cell_type": "code",
   "execution_count": 8,
   "id": "a398a425",
   "metadata": {},
   "outputs": [],
   "source": [
    "X_train,X_test,y_train,y_test = train_test_split(X, y)\n",
    "log_reg = LogisticRegression()"
   ]
  },
  {
   "cell_type": "code",
   "execution_count": 9,
   "id": "c354f335",
   "metadata": {},
   "outputs": [
    {
     "data": {
      "text/plain": [
       "0.5555555555555556"
      ]
     },
     "execution_count": 9,
     "metadata": {},
     "output_type": "execute_result"
    }
   ],
   "source": [
    "log_reg.fit(X_train, y_train) #Train\n",
    "log_reg.score(X_test, y_test) #Accuracy check"
   ]
  },
  {
   "cell_type": "code",
   "execution_count": 11,
   "id": "8fb9dec8",
   "metadata": {},
   "outputs": [],
   "source": [
    "inputs = [float(x) for x in \"-0.1 -0.1 -0.1 -0.1 -0.2 -0.3 -0.4 -0.5 -0.6 -0.7 0.8 0.9 0.1 0.2\".split(' ')]\n",
    "final_inputs = [np.array(inputs)]"
   ]
  },
  {
   "cell_type": "code",
   "execution_count": 12,
   "id": "feee950d",
   "metadata": {},
   "outputs": [
    {
     "data": {
      "text/plain": [
       "1.0"
      ]
     },
     "execution_count": 12,
     "metadata": {},
     "output_type": "execute_result"
    }
   ],
   "source": [
    "log_reg.predict(final_inputs)[0]"
   ]
  },
  {
   "cell_type": "code",
   "execution_count": 16,
   "id": "4b0e7f83",
   "metadata": {},
   "outputs": [
    {
     "data": {
      "text/plain": [
       "['ml/models/PredictReturnRegModel.joblib']"
      ]
     },
     "execution_count": 16,
     "metadata": {},
     "output_type": "execute_result"
    }
   ],
   "source": [
    "jl.dump(log_reg, 'ml/models/PredictReturnRegModel.joblib')"
   ]
  },
  {
   "cell_type": "code",
   "execution_count": null,
   "id": "e8280de7",
   "metadata": {},
   "outputs": [],
   "source": []
  }
 ],
 "metadata": {
  "kernelspec": {
   "display_name": "Python 3",
   "language": "python",
   "name": "python3"
  },
  "language_info": {
   "codemirror_mode": {
    "name": "ipython",
    "version": 3
   },
   "file_extension": ".py",
   "mimetype": "text/x-python",
   "name": "python",
   "nbconvert_exporter": "python",
   "pygments_lexer": "ipython3",
   "version": "3.8.8"
  }
 },
 "nbformat": 4,
 "nbformat_minor": 5
}
